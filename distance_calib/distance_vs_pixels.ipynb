{
 "cells": [
  {
   "cell_type": "code",
   "execution_count": 1,
   "metadata": {},
   "outputs": [],
   "source": [
    "import cv2\n",
    "import numpy as np\n"
   ]
  },
  {
   "cell_type": "code",
   "execution_count": 2,
   "metadata": {},
   "outputs": [
    {
     "name": "stdout",
     "output_type": "stream",
     "text": [
      "7\n",
      "shown\n",
      "6\n",
      "shown\n",
      "5\n",
      "shown\n",
      "4\n",
      "shown\n",
      "3\n",
      "shown\n",
      "2\n",
      "shown\n",
      "1\n",
      "shown\n",
      "0\n",
      "broke\n"
     ]
    }
   ],
   "source": [
    "cap=cv2.VideoCapture(\"dis_his1.mp4\")\n",
    "count=8\n",
    "y=[]\n",
    "\n",
    "while(cap.isOpened()):\n",
    "    count=count-1\n",
    "    print(count)\n",
    "    ret,frame_clr=cap.read()\n",
    "    \n",
    "    if not ret:\n",
    "        print(\"broke\")\n",
    "        break\n",
    "        \n",
    "    grayscale=cv2.cvtColor(frame_clr,cv2.COLOR_BGR2GRAY)\n",
    "    grayscale=cv2.pyrDown(grayscale)\n",
    "    grayscale=grayscale[0:360,140:500]\n",
    "    \n",
    "    blur=cv2.blur(grayscale,(5,5))\n",
    "    retr, threshold=cv2.threshold(blur,100,255,cv2.THRESH_BINARY_INV)\n",
    "    \n",
    "    x=cv2.countNonZero(threshold)\n",
    "\n",
    "    y=np.append(y,x)\n",
    " \n",
    "    #cv2.namedWindow(\"frame\", cv2.WINDOW_NORMAL)\n",
    "    cv2.imshow(\"frame\",threshold)\n",
    "    #cv2.imshow(\"frame\",frame_clr)\n",
    "    print(\"shown\")\n",
    "    \n",
    "    if cv2.waitKey(500) & 0xFF==ord(\"q\"):\n",
    "        break\n",
    "\n",
    "cap.release()\n",
    "cv2.destroyAllWindows()\n"
   ]
  },
  {
   "cell_type": "code",
   "execution_count": 3,
   "metadata": {},
   "outputs": [
    {
     "data": {
      "image/png": "[encoded data removed]",
      "text/plain": [
       "<Figure size 432x288 with 1 Axes>"
      ]
     },
     "metadata": {
      "needs_background": "light"
     },
     "output_type": "display_data"
    }
   ],
   "source": [
    "import matplotlib.pyplot as plt\n",
    "plt.plot(y)\n",
    "plt.ylabel('pixel count/histogram')\n",
    "plt.xlabel('distance representation')\n",
    "\n",
    "plt.show()"
   ]
  },
  {
   "cell_type": "code",
   "execution_count": null,
   "metadata": {},
   "outputs": [],
   "source": []
  }
 ],
 "metadata": {
  "kernelspec": {
   "display_name": "Python 3 (ipykernel)",
   "language": "python",
   "name": "python3"
  },
  "language_info": {
   "codemirror_mode": {
    "name": "ipython",
    "version": 3
   },
   "file_extension": ".py",
   "mimetype": "text/x-python",
   "name": "python",
   "nbconvert_exporter": "python",
   "pygments_lexer": "ipython3",
   "version": "3.10.4"
  }
 },
 "nbformat": 4,
 "nbformat_minor": 4
}
