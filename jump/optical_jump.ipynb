{
 "cells": [
  {
   "cell_type": "code",
   "execution_count": 1,
   "metadata": {},
   "outputs": [],
   "source": [
    "import cv2\n",
    "import numpy as np\n",
    "from matplotlib import pyplot as plt\n",
    "\n",
    "import math"
   ]
  },
  {
   "cell_type": "code",
   "execution_count": 2,
   "metadata": {},
   "outputs": [],
   "source": [
    "frame1=cv2.imread(\"LEFT1.jpg\")\n",
    "frame2=cv2.imread(\"RIGHT1.jpg\")\n",
    "\n",
    "frame1=cv2.resize(frame1,(640,640))\n",
    "frame2=cv2.resize(frame2,(640,640))\n"
   ]
  },
  {
   "cell_type": "code",
   "execution_count": 3,
   "metadata": {},
   "outputs": [],
   "source": [
    "def Oper (frame):\n",
    "    frame_new=frame.copy()\n",
    "    frame_1=cv2.cvtColor(frame_new,cv2.COLOR_BGR2HSV)\n",
    "    lower_red = np.array([170,50,50])\n",
    "    upper_red = np.array([180,255,255])\n",
    "    frame_hsv = cv2.inRange(frame_1, lower_red, upper_red)\n",
    "    #frameG=cv2.blur(frame1,(5,5))\n",
    "    #frameC=cv2.Canny(frameG,130,200)\n",
    "    contours,hierarchy=cv2.findContours(frame_hsv,cv2.RETR_EXTERNAL,cv2.CHAIN_APPROX_SIMPLE)\n",
    "    for c in contours:\n",
    "        cv2.drawContours(frame_new,[c],-1,(0,255,255),2)\n",
    "        x, y, w, h = cv2.boundingRect(c)\n",
    "        # draw a green rectangle to visualize the bounding rect\n",
    "        cv2.rectangle(frame_new, (x, y), (x+w, y+h), (0, 255, 0), 2)\n",
    "    return frame_new,frame_hsv,contours"
   ]
  },
  {
   "cell_type": "code",
   "execution_count": 4,
   "metadata": {},
   "outputs": [],
   "source": [
    "def Tem_Match(image1,image2,contour1,contour2):\n",
    "    img1=image1.copy()\n",
    "    img2=image2.copy()\n",
    "    img3=img2.copy()\n",
    "    img1=cv2.cvtColor(img1,cv2.COLOR_BGR2GRAY)\n",
    "    img2=cv2.cvtColor(img2,cv2.COLOR_BGR2GRAY)\n",
    "    row,col=img1.shape\n",
    "    \n",
    "    zero_mat=np.zeros((row,col),np.uint8)\n",
    "    \n",
    "    #img1=cv2.Canny(img1,100,200)\n",
    "    #img2=cv2.Canny(img2,100,200)\n",
    "    \n",
    "    for c in contour1:\n",
    "        x, y, w, h = cv2.boundingRect(c)\n",
    "        temp1=img1[y:y+h,x:x+w]\n",
    "        \n",
    "       # methods = ['cv2.TM_CCOEFF', 'cv2.TM_CCOEFF_NORMED', 'cv2.TM_CCORR',\n",
    "           # 'cv2.TM_CCORR_NORMED', 'cv2.TM_SQDIFF', 'cv2.TM_SQDIFF_NORMED']\n",
    "        \n",
    "        res = cv2.matchTemplate(img2[y:y+h,:],temp1,cv2.TM_CCOEFF_NORMED)\n",
    "        min_val, max_val, min_loc, max_loc = cv2.minMaxLoc(res)\n",
    "        top_left=max_loc\n",
    "        bottom_right = (top_left[0] + w, top_left[1] + h)\n",
    "        \n",
    "        #euclid_dis= math.sqrt(pow((x-top_left[0]),2)+pow((y-top_left[1]),2))\n",
    "        euclid_dis= math.sqrt(pow((x-top_left[0]),2)+pow((top_left[1]),2))\n",
    "        euclid_dis = int(euclid_dis)\n",
    "        \n",
    "        zero_mat[top_left[1]+y:top_left[1]+y+h,top_left[0]:top_left[0]+w]=euclid_dis\n",
    "        \n",
    "        image2=cv2.putText(img3, \"euclid dis\", (top_left[0]+30, top_left[1]+y),\n",
    "                    cv2.FONT_HERSHEY_SIMPLEX, 0.5, (255, 0, 255), 2)\n",
    "        image2=cv2.putText(img3, str(euclid_dis), (top_left[0], top_left[1]+y),\n",
    "                    cv2.FONT_HERSHEY_SIMPLEX, 0.5, (255, 0, 255), 2)\n",
    "\n",
    "        #print(type(euclid_dis))\n",
    "        #print(euclid_dis)\n",
    "        #cv2.rectangle(img2,top_left, bottom_right, 255, 2)\n",
    "        #cv2.imshow(\"LL\",img2)\n",
    "        #if cv2.waitKey(1000) \n",
    "        #cv2.waitKey(1)\n",
    "        #cv2.destroyAllWindows()\n",
    "    return zero_mat,image2"
   ]
  },
  {
   "cell_type": "code",
   "execution_count": 5,
   "metadata": {},
   "outputs": [],
   "source": [
    "frame_new1,frame_hsv1,contours1=Oper(frame1)\n",
    "frame_new2,frame_hsv2,contours2=Oper(frame2)\n",
    "dis_mat,image2=Tem_Match(frame1,frame2,contours1,contours2)\n",
    "\n",
    "cv2.imshow(\"detected_cont\",frame_new1)\n",
    "cv2.imshow(\"hsv_seg\",frame_hsv1)\n",
    "cv2.imshow(\"localized\",image2)\n",
    "cv2.imshow(\"dis\",dis_mat)\n",
    "\n",
    "cv2.waitKey(0)\n",
    "cv2.destroyAllWindows()"
   ]
  },
  {
   "cell_type": "code",
   "execution_count": null,
   "metadata": {},
   "outputs": [],
   "source": []
  },
  {
   "cell_type": "code",
   "execution_count": null,
   "metadata": {},
   "outputs": [],
   "source": []
  },
  {
   "cell_type": "code",
   "execution_count": null,
   "metadata": {},
   "outputs": [],
   "source": []
  },
  {
   "cell_type": "code",
   "execution_count": null,
   "metadata": {},
   "outputs": [],
   "source": []
  },
  {
   "cell_type": "code",
   "execution_count": null,
   "metadata": {},
   "outputs": [],
   "source": []
  }
 ],
 "metadata": {
  "kernelspec": {
   "display_name": "Python 3 (ipykernel)",
   "language": "python",
   "name": "python3"
  },
  "language_info": {
   "codemirror_mode": {
    "name": "ipython",
    "version": 3
   },
   "file_extension": ".py",
   "mimetype": "text/x-python",
   "name": "python",
   "nbconvert_exporter": "python",
   "pygments_lexer": "ipython3",
   "version": "3.10.4"
  }
 },
 "nbformat": 4,
 "nbformat_minor": 4
}
